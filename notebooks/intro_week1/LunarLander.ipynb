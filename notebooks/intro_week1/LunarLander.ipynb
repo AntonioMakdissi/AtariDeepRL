{
 "cells": [
  {
   "cell_type": "code",
   "execution_count": 1,
   "metadata": {},
   "outputs": [],
   "source": [
    "# Import the Gym library, which provides a wide range of environments for reinforcement learning\n",
    "import gymnasium as gym\n",
    "import numpy as np\n",
    "\n",
    "# Create an environment for the LunarLander-v2 task(game), with rendering in a human-friendly mode\n",
    "env = gym.make(\"LunarLander-v2\", render_mode=\"human\")\n",
    "\n",
    "# Reset the environment and get the initial observation and info\n",
    "observation, info = env.reset() #no particular seed\n",
    "\n",
    "# Loop for a fixed number of time steps (1000 in this case)\n",
    "for _ in range(1000):\n",
    "    # Choose a random action from the action space as an agent's policy\n",
    "    action = env.action_space.sample()\n",
    "\n",
    "    # Take a step in the environment using the selected action\n",
    "    observation, reward, terminated, truncated, info = env.step(action)\n",
    "\n",
    "    # Check if the episode is terminated (done) or truncated (timed out)\n",
    "    if terminated or truncated:\n",
    "        # If the episode is over, reset the environment for a new episode\n",
    "        observation, info = env.reset()\n",
    "\n",
    "# Close the environment when the loop is done\n",
    "env.close()\n"
   ]
  }
 ],
 "metadata": {
  "kernelspec": {
   "display_name": "Python 3.9.13 ('python-g3')",
   "language": "python",
   "name": "python3"
  },
  "language_info": {
   "codemirror_mode": {
    "name": "ipython",
    "version": 3
   },
   "file_extension": ".py",
   "mimetype": "text/x-python",
   "name": "python",
   "nbconvert_exporter": "python",
   "pygments_lexer": "ipython3",
   "version": "3.8.18"
  },
  "vscode": {
   "interpreter": {
    "hash": "58ce234235271a992c6c1e3b99a6569700980df73fb4c638b79441455019e58f"
   }
  }
 },
 "nbformat": 4,
 "nbformat_minor": 4
}
