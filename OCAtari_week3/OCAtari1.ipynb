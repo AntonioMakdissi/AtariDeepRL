{
 "cells": [
  {
   "cell_type": "code",
   "execution_count": 3,
   "metadata": {},
   "outputs": [
    {
     "ename": "",
     "evalue": "",
     "output_type": "error",
     "traceback": [
      "\u001b[1;31mThe Kernel crashed while executing code in the the current cell or a previous cell. Please review the code in the cell(s) to identify a possible cause of the failure. Click <a href='https://aka.ms/vscodeJupyterKernelCrash'>here</a> for more info. View Jupyter <a href='command:jupyter.viewOutput'>log</a> for further details."
     ]
    }
   ],
   "source": [
    "import stable_baselines3\n",
    "import gymnasium as gym\n",
    "import numpy as np\n",
    "\n",
    "from stable_baselines3 import DQN\n",
    "from stable_baselines3.common.env_util import make_atari_env\n",
    "from stable_baselines3.common.vec_env import VecFrameStack\n",
    "# from stable_baselines.common.atari_wrappers import make_atari\n",
    "from stable_baselines3.dqn import CnnPolicy\n",
    "from stable_baselines3.common.evaluation import evaluate_policy\n",
    "\n",
    "# for ploting\n",
    "from stable_baselines3.common import results_plotter\n",
    "import matplotlib.pyplot as plt\n",
    "#####################################################\n",
    "import os\n",
    "from stable_baselines3 import TD3\n",
    "from stable_baselines3.common.monitor import Monitor\n",
    "from stable_baselines3.common.results_plotter import load_results, ts2xy\n",
    "from stable_baselines3.common.noise import NormalActionNoise\n",
    "from stable_baselines3.common.callbacks import BaseCallback\n",
    "################################################\n",
    "from ocatari.core import OCAtari\n"
   ]
  },
  {
   "cell_type": "code",
   "execution_count": null,
   "metadata": {},
   "outputs": [],
   "source": [
    "env = OCAtari(\"PongNoFrameskip-v4\", mode=\"both\", obs_mode=\"ori\")\n",
    "# Reset the environment and obtain the initial observation\n",
    "observation, info = env.reset()\n",
    "prevRam = None\n",
    "already_figured_out = []\n",
    "for i in range(1000):\n",
    "\n",
    "    ram_value = 9   # set here the RAM value\n",
    "\n",
    "    for b in range(0, 126):     # loop through the RAM\n",
    "        obs, reward, terminated, truncated, info = env.step(np.random.randint(0, 0))\n",
    "        print(b - 1)\n",
    "        env.set_ram(b, ram_value)\n",
    "        env.render()  #Render the environment (for visualization purposes)\n",
    "        ipdb.set_trace()\n",
    "        \n",
    "# Close the OCAtari environment\n",
    "env.close()"
   ]
  },
  {
   "cell_type": "code",
   "execution_count": null,
   "metadata": {},
   "outputs": [],
   "source": [
    "\n",
    "\n",
    "# Initialize the OCAtari environment for the \"Assault\" game\n",
    "env = OCAtari.OCAtari(\"Assault\", mode=\"raw\", render_mode=\"rgb_array\")\n",
    "\n",
    "# Reset the environment and obtain the initial observation\n",
    "observation, info = env.reset()\n",
    "\n",
    "# Loop through the RAM addresses\n",
    "for ram_address in range(128):\n",
    "    # Set a random RAM value (for demonstration)\n",
    "    ram_value = np.random.randint(0, 255)\n",
    "    \n",
    "    # Print the RAM address and value for debugging\n",
    "    print(f\"RAM Address: {ram_address}, RAM Value: {ram_value}\")\n",
    "    \n",
    "    # Set the RAM value for the specified address\n",
    "    env.set_ram(ram_address, ram_value)\n",
    "    \n",
    "    # Render the environment (for visualization purposes)\n",
    "    env.render()\n",
    "\n",
    "# Close the OCAtari environment\n",
    "env.close()\n"
   ]
  }
 ],
 "metadata": {
  "kernelspec": {
   "display_name": "Python 3.9.13 ('python-g3')",
   "language": "python",
   "name": "python3"
  },
  "language_info": {
   "codemirror_mode": {
    "name": "ipython",
    "version": 3
   },
   "file_extension": ".py",
   "mimetype": "text/x-python",
   "name": "python",
   "nbconvert_exporter": "python",
   "pygments_lexer": "ipython3",
   "version": "3.8.18"
  },
  "vscode": {
   "interpreter": {
    "hash": "58ce234235271a992c6c1e3b99a6569700980df73fb4c638b79441455019e58f"
   }
  }
 },
 "nbformat": 4,
 "nbformat_minor": 4
}
